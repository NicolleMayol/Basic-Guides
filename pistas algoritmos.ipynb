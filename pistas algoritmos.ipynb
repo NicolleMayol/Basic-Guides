{
 "cells": [
  {
   "cell_type": "markdown",
   "metadata": {},
   "source": [
    "# PISTAS"
   ]
  },
  {
   "cell_type": "markdown",
   "metadata": {},
   "source": [
    "## 1. Algoritmos de búsqueda"
   ]
  },
  {
   "cell_type": "markdown",
   "metadata": {},
   "source": [
    "### 1.1. Búsqueda Lineal"
   ]
  },
  {
   "cell_type": "markdown",
   "metadata": {},
   "source": [
    "1. Los índices de las listas inician en 0, y no existen números negativos. Puedes retornar -1 como una forma de decir que el elemento no existe."
   ]
  },
  {
   "cell_type": "markdown",
   "metadata": {},
   "source": [
    "2. Cuando una función se encuentra con un return, finaliza su tiempo de ejecución."
   ]
  },
  {
   "cell_type": "markdown",
   "metadata": {},
   "source": [
    "#### CÓDIGO:"
   ]
  },
  {
   "cell_type": "code",
   "execution_count": 1,
   "metadata": {},
   "outputs": [],
   "source": [
    "def linear_search(elemento_buscado, lista_elementos):\n",
    "    ###escribe tu código aquí\n",
    "    for i in range(len(lista_elementos)):  # recorrer la lista de elementos\n",
    "        if elemento_buscado == lista_elementos[i]:\n",
    "            return i\n",
    "    return -1\n",
    "    "
   ]
  },
  {
   "cell_type": "markdown",
   "metadata": {},
   "source": [
    "### 1.2 Búsueda Binaria"
   ]
  },
  {
   "cell_type": "markdown",
   "metadata": {},
   "source": [
    "1. Si la cantidad de elementos de la lista es impar, la mitad dará decimales. Debes aproximar al valor inferior más cercano\n",
    "2. // En python permite aproximar hacia el valor inferior"
   ]
  },
  {
   "cell_type": "code",
   "execution_count": 2,
   "metadata": {},
   "outputs": [],
   "source": [
    "def binary_search(elemento, coleccion):\n",
    "    izq = 0\n",
    "    der = len(coleccion)-1\n",
    "\n",
    "    while izq <= der:\n",
    "        mitad = (izq + der) //2\n",
    "        if elemento == coleccion[mitad]:\n",
    "            return mitad\n",
    "        elif elemento > coleccion[mitad]:\n",
    "            izq = mitad + 1\n",
    "        else:\n",
    "            der = mitad -1\n",
    "    return -1"
   ]
  }
 ],
 "metadata": {
  "kernelspec": {
   "display_name": "Python 3",
   "language": "python",
   "name": "python3"
  },
  "language_info": {
   "codemirror_mode": {
    "name": "ipython",
    "version": 3
   },
   "file_extension": ".py",
   "mimetype": "text/x-python",
   "name": "python",
   "nbconvert_exporter": "python",
   "pygments_lexer": "ipython3",
   "version": "3.12.0"
  }
 },
 "nbformat": 4,
 "nbformat_minor": 2
}
